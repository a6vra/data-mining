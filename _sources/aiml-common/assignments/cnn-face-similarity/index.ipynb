{
 "cells": [
  {
   "attachments": {},
   "cell_type": "markdown",
   "id": "51293c9c",
   "metadata": {},
   "source": [
    "# CNN Featurisers and Similarity Search "
   ]
  },
  {
   "cell_type": "markdown",
   "id": "b059e36b",
   "metadata": {},
   "source": [
    "### Introduction\n",
    "Typically when we train a Convolutional Neural Network as an end-to-end image classifier, we input an image to the network, which gets propagated through the network (feed forward).\n",
    "\n",
    "We then obtain our posterior probabilities at the end of the network.\n",
    "\n",
    "However, there is no “rule” that says we must allow the image to forward propagate through the entire network that includes the head. Instead, we can:\n",
    "\n",
    "1) Stop propagation at a layer before the head of the network (such as an activation or pooling layer).\n",
    "\n",
    "2) Extract the logits at this layer.\n",
    "\n",
    "3) Treat the values as a feature vector.\n",
    "\n",
    "Now these feature vectors can be utilized in other downstream tasks like classification. Our aim is to create a system where an input query image will be responded by a number of  images that have strong resemblance to the query image. This particular task is called **similarity search**. A naive way to perform this task, would be to compare images based on pixel values, patches, or some other high level feature taken from the image itself. You are askd to use the ResNet-50 architecture to produce features that can represent a concept aka a face with specific characteristics. "
   ]
  },
  {
   "attachments": {},
   "cell_type": "markdown",
   "id": "83aabf75",
   "metadata": {},
   "source": [
    "### Part 1 Loading of Dataset in Colab (10 points)\n",
    "\n",
    "Create a jupyter notebook (eg on Google Colab) and download the LFW dataset, from [here](http://vis-www.cs.umass.edu/lfw/).\n",
    "\n",
    "You can manually download the dataset using the above link and then upload to colab or altelnatively you can issue in colab the commands shown below\n"
   ]
  },
  {
   "cell_type": "code",
   "execution_count": null,
   "id": "9f8c1800",
   "metadata": {},
   "outputs": [],
   "source": [
    "!wget http://vis-www.cs.umass.edu/lfw/lfw.tgz\n",
    "!tar -xvf /content/lfw.tgz"
   ]
  },
  {
   "attachments": {},
   "cell_type": "markdown",
   "id": "12dce9b8",
   "metadata": {},
   "source": [
    "### Part 2 Using CNN for Feature Extraction (30 points)\n",
    "\n",
    "Use ResNet50 to extract features vectors from raw images. You can use TF or Pytorch APIs to: \n",
    "\n",
    "* Obtain a ResNet-50  model pre-trained on a dataset such as ImageNet. \n",
    "* Perform necessary preprocessing on the images before feeding them into the network.\n",
    "* Extract the features from the penultimate layer of the network (before the fully connected layer - the classification head).\n",
    "* Store the features in a dictionary, where the key is the name of the image and the value is the feature vector.\n"
   ]
  },
  {
   "attachments": {},
   "cell_type": "markdown",
   "id": "4461826b",
   "metadata": {},
   "source": [
    "### Part 3 Retrieving most similar images (30 points)\n",
    "\n",
    "Use a nearest neighbor algorithm such as [this](https://scikit-learn.org/stable/modules/neighbors.html) to obtain the 10 most similar images to each query image. \n"
   ]
  },
  {
   "attachments": {},
   "cell_type": "markdown",
   "id": "b81f4064",
   "metadata": {},
   "source": [
    "## Part 4 - Streamlit App (30 points)\n",
    "\n",
    "See [this example app](https://github.com/georgestein/galaxy_search) and develop an app that will showcase the similarity search system you have developed. The app should offer two possibiities: select an image from the test dataset and upload an image. It should then display the 10 most similar images to the query image. **The app must be deployed to a Streamlit space in Hugging Face.** "
   ]
  }
 ],
 "metadata": {
  "kernelspec": {
   "display_name": "ai-course",
   "language": "python",
   "name": "python3"
  },
  "language_info": {
   "codemirror_mode": {
    "name": "ipython",
    "version": 3
   },
   "file_extension": ".py",
   "mimetype": "text/x-python",
   "name": "python",
   "nbconvert_exporter": "python",
   "pygments_lexer": "ipython3",
   "version": "3.10.8"
  },
  "vscode": {
   "interpreter": {
    "hash": "62556f7a043365a66e0918c892755cfafede529a87e97207556f006a109bade4"
   }
  }
 },
 "nbformat": 4,
 "nbformat_minor": 5
}
